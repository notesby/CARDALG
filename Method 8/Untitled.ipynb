{
 "cells": [
  {
   "cell_type": "code",
   "execution_count": 2,
   "metadata": {},
   "outputs": [],
   "source": [
    "import numpy as np\n",
    "import matplotlib.pyplot as plt\n",
    "from joblib import Parallel, delayed,parallel_backend"
   ]
  },
  {
   "cell_type": "code",
   "execution_count": 3,
   "metadata": {},
   "outputs": [],
   "source": [
    "class Testing1():\n",
    "    def __init__(self,data,model,verbose=0):\n",
    "        self.data = data\n",
    "        self.model = model\n",
    "        self.verbose = verbose\n",
    "    \n",
    "    def testRow(self,row_prev,row,row_pred):\n",
    "        totalMatchDynamic = 0\n",
    "        totalMatchStatic = 0\n",
    "        totalStatic = 0\n",
    "        totalDynamic = 0\n",
    "        for cell0,cell1,cell2 in zip(row_prev,row,row_pred):\n",
    "            totalMatchDynamic += (cell0 != cell1 and cell1 == cell2)\n",
    "            totalMatchStatic += (cell0 == cell1 and cell1 == cell2)\n",
    "            totalStatic += (cell0 == cell1)\n",
    "            totalDynamic += (cell0 != cell1)\n",
    "        totalStatic = totalStatic if totalStatic > 0 else 0\n",
    "        totalDynamic = totalDynamic if totalDynamic > 0 else 0\n",
    "        return [totalStatic,totalDynamic,totalMatchStatic,totalMatchDynamic]\n",
    "            \n",
    "    def run(self):\n",
    "        res = []\n",
    "        backend = \"threading\"\n",
    "        with Parallel(n_jobs=4,backend=backend) as parallel:\n",
    "            if self.verbose >= 1: print(\"Testing:\")\n",
    "            for i in range(1,len(data)):\n",
    "                if self.verbose >= 1: print(f\"state {i}/{len(data)}\")\n",
    "                prediction = next(model.run(data[i-1],1))\n",
    "                rowsTotal = parallel(delayed(self.testRow)(row0,row1,row2) for row0,row1,row2 in zip(data[i-1],data[i],prediction[1]))\n",
    "                summation = np.sum(rowsTotal,axis=0)\n",
    "                if self.verbose >= 1: \n",
    "                    print(f\"Static : {summation[2]}/{summation[0]}\")\n",
    "                    print(f\"Dynamic : {summation[3]}/{summation[1]}\")\n",
    "                totalStatic = summation[2]/summation[0] if summation[0] > 0 else 0\n",
    "                totalDynamic = summation[3]/summation[1] if summation[1] > 0 else 0\n",
    "                res.append([totalStatic,totalDynamic])\n",
    "        self.result = np.array(res)\n",
    "    \n",
    "    def plot(self):\n",
    "        plt.plot(range(len(self.result)),self.result[:,0])\n",
    "        plt.plot(range(len(self.result)),self.result[:,1])\n",
    "        return plt"
   ]
  },
  {
   "cell_type": "code",
   "execution_count": null,
   "metadata": {},
   "outputs": [],
   "source": [
    "class CAModel():\n",
    "    def __init__(self,rules,neighborhood,paddingType,paddingValue):\n",
    "        self.paddingType = 1\n",
    "        self.paddingValue = -1\n",
    "        self.rules = rules\n",
    "        self.neighborhood = neighborhood\n",
    "        \n",
    "    def run(self,initialState,noSteps):\n",
    "        size = np.shape(initialState)\n",
    "        initialState = initialState.reshape(-1)\n",
    "        currentStep = copy(initialState)\n",
    "        for step in range(noSteps):\n",
    "            nextStep = copy(currentStep)#np.zeros(shape=np.shape(currentStep))\n",
    "            for cell in helpers.multiDimensionalGenerator(size):\n",
    "                neighbors = helpers.getNeighbors(cell,self.neighborhood,size)\n",
    "                A = helpers.getNeighborsValue(currentStep,neighbors,self.paddingType,self.paddingValue)\n",
    "                for op in self.rules:\n",
    "                    res = self.rules[op](A)\n",
    "                    if res:\n",
    "                        xi = cell\n",
    "                        expr = helpers.getExpr(size)\n",
    "                        tmpCell = expr(xi)\n",
    "                        nextStep[tmpCell] = op\n",
    "            yield step,nextStep.reshape(size)\n",
    "            currentStep = nextStep"
   ]
  }
 ],
 "metadata": {
  "kernelspec": {
   "display_name": "Python 3",
   "language": "python",
   "name": "python3"
  },
  "language_info": {
   "codemirror_mode": {
    "name": "ipython",
    "version": 3
   },
   "file_extension": ".py",
   "mimetype": "text/x-python",
   "name": "python",
   "nbconvert_exporter": "python",
   "pygments_lexer": "ipython3",
   "version": "3.7.4"
  }
 },
 "nbformat": 4,
 "nbformat_minor": 4
}
