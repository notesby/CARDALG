{
 "cells": [
  {
   "cell_type": "code",
   "execution_count": 57,
   "metadata": {},
   "outputs": [],
   "source": [
    "import numpy as np"
   ]
  },
  {
   "cell_type": "code",
   "execution_count": 45,
   "metadata": {},
   "outputs": [],
   "source": [
    "def fib(i):\n",
    "    if i == 0:\n",
    "        return 0\n",
    "    if i == 1:\n",
    "        return 1\n",
    "    prev= 0\n",
    "    nex = 1\n",
    "    for j in range(i):\n",
    "        temp = nex\n",
    "        nex = prev + nex\n",
    "        prev = temp\n",
    "        #print(prev,nex)\n",
    "    return prev\n",
    "    \n",
    "    "
   ]
  },
  {
   "cell_type": "code",
   "execution_count": 51,
   "metadata": {},
   "outputs": [
    {
     "data": {
      "text/plain": [
       "1"
      ]
     },
     "execution_count": 51,
     "metadata": {},
     "output_type": "execute_result"
    }
   ],
   "source": [
    "fib(1)"
   ]
  },
  {
   "cell_type": "code",
   "execution_count": 98,
   "metadata": {},
   "outputs": [
    {
     "name": "stdout",
     "output_type": "stream",
     "text": [
      "['.', '.', '.', '.', '.', '.', '.', '.']\n",
      "['.', '.', '.', '.', '.', '.', '.', '.']\n",
      "['.', '.', '.', '.', '.', '.', '.', '.']\n",
      "['.', '.', '.', '.', '.', '.', '.', '.']\n",
      "['.', '.', '.', '.', '.', '.', '.', '.']\n",
      "['.', '.', '.', '.', '.', '.', '.', '.']\n",
      "['.', '.', '.', '.', '.', '.', '.', '.']\n",
      "['.', '.', '.', '.', '.', '.', '.', '.']\n"
     ]
    }
   ],
   "source": [
    "mat = []\n",
    "for i in range(8):\n",
    "    temp = []\n",
    "    for j in range(8):\n",
    "        temp.append('.')\n",
    "    print(temp)\n",
    "    mat.append(temp)\n",
    "mat = np.array(mat)"
   ]
  },
  {
   "cell_type": "code",
   "execution_count": 100,
   "metadata": {},
   "outputs": [],
   "source": [
    "mat[1,3] = 'p'\n",
    "mat[2,3] = 'p'\n",
    "mat[3] = ['p', 'p', '.', 'R', '.', '.', 'B', '.']\n",
    "mat[5,3] = 'B'\n",
    "mat[6,3] = 'p'"
   ]
  },
  {
   "cell_type": "code",
   "execution_count": 101,
   "metadata": {},
   "outputs": [
    {
     "name": "stdout",
     "output_type": "stream",
     "text": [
      "['.' '.' '.' '.' '.' '.' '.' '.']\n",
      "['.' '.' '.' 'p' '.' '.' '.' '.']\n",
      "['.' '.' '.' 'p' '.' '.' '.' '.']\n",
      "['p' 'p' '.' 'R' '.' '.' 'B' '.']\n",
      "['.' '.' '.' '.' '.' '.' '.' '.']\n",
      "['.' '.' '.' 'B' '.' '.' '.' '.']\n",
      "['.' '.' '.' 'p' '.' '.' '.' '.']\n",
      "['.' '.' '.' '.' '.' '.' '.' '.']\n"
     ]
    }
   ],
   "source": [
    "for row in mat:\n",
    "    print(row)"
   ]
  },
  {
   "cell_type": "code",
   "execution_count": 92,
   "metadata": {},
   "outputs": [],
   "source": [
    "def inLimits(pos):\n",
    "    return pos[0] >= 0 and pos[0] < 8 and pos[1] >= 0 and pos[1] < 8\n",
    "\n",
    "\n",
    "def find(mat,pos,direction):\n",
    "    nextPos = [pos[0]+direction[0],pos[1]+direction[1]]\n",
    "    while(inLimits(nextPos)):\n",
    "        if mat[nextPos[0],nextPos[1]] == 'p':\n",
    "            return True\n",
    "        elif mat[nextPos[0],nextPos[1]] == 'B':\n",
    "            return False\n",
    "        nextPos = [nextPos[0]+direction[0],nextPos[1]+direction[1]]\n",
    "    return False\n",
    "\n",
    "\n",
    "def danger(mat):\n",
    "    towerPos = 0\n",
    "    for i,row in enumerate(mat):\n",
    "        for j,col in enumerate(row):\n",
    "            if col == 'R':\n",
    "                towerPos = [i,j]\n",
    "    count = 0\n",
    "    for mov in [[-1,0],[1,0],[0,1],[0,-1]]:\n",
    "        if find(mat,towerPos,mov):\n",
    "            count+= 1\n",
    "    return count"
   ]
  },
  {
   "cell_type": "code",
   "execution_count": 102,
   "metadata": {},
   "outputs": [
    {
     "data": {
      "text/plain": [
       "2"
      ]
     },
     "execution_count": 102,
     "metadata": {},
     "output_type": "execute_result"
    }
   ],
   "source": [
    "danger(mat)"
   ]
  },
  {
   "cell_type": "code",
   "execution_count": null,
   "metadata": {},
   "outputs": [],
   "source": []
  }
 ],
 "metadata": {
  "kernelspec": {
   "display_name": "Python 3",
   "language": "python",
   "name": "python3"
  },
  "language_info": {
   "codemirror_mode": {
    "name": "ipython",
    "version": 3
   },
   "file_extension": ".py",
   "mimetype": "text/x-python",
   "name": "python",
   "nbconvert_exporter": "python",
   "pygments_lexer": "ipython3",
   "version": "3.7.4"
  }
 },
 "nbformat": 4,
 "nbformat_minor": 4
}
