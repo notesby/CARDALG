{
 "cells": [
  {
   "cell_type": "code",
   "execution_count": 1,
   "metadata": {},
   "outputs": [],
   "source": [
    "import numpy as np\n",
    "import os,sys,inspect\n",
    "current_dir = os.path.dirname(os.path.abspath(inspect.getfile(inspect.currentframe())))\n",
    "parent_dir = os.path.dirname(current_dir)\n",
    "sys.path.insert(0, parent_dir) \n",
    "from ocat import OCAT"
   ]
  },
  {
   "cell_type": "code",
   "execution_count": 2,
   "metadata": {},
   "outputs": [],
   "source": [
    "data = np.array([[0,2,0,0,2],[0,1,0,1,2],[1,0,1,0,2],[1,0,0,1,2],\n",
    "        [1,0,1,0,1],[0,0,0,1,1],[1,1,1,1,1],[0,0,0,0,1],[1,0,0,0,1],[1,1,1,0,1],[0,2,0,0,1]])"
   ]
  },
  {
   "cell_type": "code",
   "execution_count": 3,
   "metadata": {
    "scrolled": true
   },
   "outputs": [
    {
     "name": "stdout",
     "output_type": "stream",
     "text": [
      "problem\n",
      "matrix\n",
      "domain\n",
      "binarized\n",
      "bdomains\n",
      "indexes\n",
      "dindex\n",
      "pos index\n",
      "neg index\n",
      "auxiliar\n",
      "terms\n",
      "training for value 1\n",
      "4\n",
      "2\n",
      "1\n",
      "training for value 2\n",
      "5\n",
      "3\n",
      "1\n",
      "1\n",
      "1\n",
      "1\n",
      "1\n",
      "1\n",
      "1\n",
      "1\n",
      "1\n",
      "1\n",
      "difficult element 100/1000 to delete it\n",
      "1\n",
      "1\n",
      "1\n",
      "1\n",
      "1\n",
      "1\n",
      "1\n",
      "1\n",
      "1\n",
      "1\n",
      "difficult element 200/1000 to delete it\n",
      "1\n",
      "1\n",
      "1\n",
      "1\n",
      "1\n",
      "1\n",
      "1\n",
      "1\n",
      "1\n",
      "1\n",
      "difficult element 300/1000 to delete it\n",
      "1\n",
      "1\n",
      "1\n",
      "1\n",
      "1\n",
      "1\n",
      "1\n",
      "1\n",
      "1\n",
      "1\n",
      "difficult element 400/1000 to delete it\n",
      "1\n",
      "1\n",
      "1\n",
      "1\n",
      "1\n",
      "1\n",
      "1\n",
      "1\n",
      "1\n",
      "1\n",
      "difficult element 500/1000 to delete it\n",
      "1\n",
      "1\n",
      "1\n",
      "1\n",
      "1\n",
      "1\n",
      "1\n",
      "1\n",
      "1\n",
      "1\n",
      "difficult element 600/1000 to delete it\n",
      "1\n",
      "1\n",
      "1\n",
      "1\n",
      "1\n",
      "1\n",
      "1\n",
      "1\n",
      "1\n",
      "1\n",
      "difficult element 700/1000 to delete it\n",
      "1\n",
      "1\n",
      "1\n",
      "1\n",
      "1\n",
      "1\n",
      "1\n",
      "1\n",
      "1\n",
      "1\n",
      "difficult element 800/1000 to delete it\n",
      "1\n",
      "1\n",
      "1\n",
      "1\n",
      "1\n",
      "1\n",
      "1\n",
      "1\n",
      "1\n",
      "1\n",
      "difficult element 900/1000 to delete it\n",
      "1\n",
      "1\n",
      "1\n",
      "1\n",
      "1\n",
      "1\n",
      "1\n",
      "1\n",
      "1\n",
      "1\n",
      "difficult element 1000/1000 to delete it\n",
      "(7, 1) set()\n"
     ]
    },
    {
     "data": {
      "text/plain": [
       "[[1,\n",
       "  [{(1, 1, '<'), (2, 1, '>=')},\n",
       "   {(0, 1, '<'), (2, 1, '>='), (3, 1, '<')},\n",
       "   {(1, 1, '>='), (2, 1, '<')}]],\n",
       " [2,\n",
       "  [{(0, 1, '>='), (1, 1, '>=')},\n",
       "   {(0, 1, '<'), (1, 1, '<')},\n",
       "   {(0, 0, '<'),\n",
       "    (0, 1, '<'),\n",
       "    (1, 0, '<'),\n",
       "    (1, 1, '>='),\n",
       "    (1, 2, '>='),\n",
       "    (2, 0, '<'),\n",
       "    (2, 1, '>='),\n",
       "    (3, 0, '<'),\n",
       "    (3, 1, '>=')}]]]"
      ]
     },
     "execution_count": 3,
     "metadata": {},
     "output_type": "execute_result"
    }
   ],
   "source": [
    "model = OCAT(data,np.shape(data)[1]-1)\n",
    "model.train()"
   ]
  },
  {
   "cell_type": "code",
   "execution_count": 10,
   "metadata": {},
   "outputs": [
    {
     "data": {
      "text/plain": [
       "1"
      ]
     },
     "execution_count": 10,
     "metadata": {},
     "output_type": "execute_result"
    }
   ],
   "source": [
    "model.predict(data[7,:-1])"
   ]
  },
  {
   "cell_type": "code",
   "execution_count": null,
   "metadata": {},
   "outputs": [],
   "source": []
  }
 ],
 "metadata": {
  "kernelspec": {
   "display_name": "Python 3",
   "language": "python",
   "name": "python3"
  },
  "language_info": {
   "codemirror_mode": {
    "name": "ipython",
    "version": 3
   },
   "file_extension": ".py",
   "mimetype": "text/x-python",
   "name": "python",
   "nbconvert_exporter": "python",
   "pygments_lexer": "ipython3",
   "version": "3.7.4"
  }
 },
 "nbformat": 4,
 "nbformat_minor": 4
}
