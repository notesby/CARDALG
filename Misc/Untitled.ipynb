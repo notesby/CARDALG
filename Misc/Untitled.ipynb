{
 "cells": [
  {
   "cell_type": "code",
   "execution_count": 1,
   "metadata": {},
   "outputs": [],
   "source": [
    "import math\n",
    "import random\n",
    "import numpy as np\n",
    "import matplotlib.pyplot as plt"
   ]
  },
  {
   "cell_type": "code",
   "execution_count": 161,
   "metadata": {},
   "outputs": [],
   "source": [
    "def getMaxRuleSpaceSize(domainY,domainX,y,x):\n",
    "    return (len(domainY) ** len(y))*(len(domainX) ** len(x))\n",
    "\n",
    "def getRuleSpace(noVar, domain):\n",
    "    space = []\n",
    "    count = noVar\n",
    "    maxSize = len(domainX) ** noVar\n",
    "    #print(maxSize)\n",
    "    while count > 0:\n",
    "        no = (len(domainX) ** count)\n",
    "        repeatCount = int(no / len(domainX))\n",
    "        repeatCount2 = int(maxSize/no)\n",
    "        temp = []\n",
    "        for j in range(repeatCount2):\n",
    "            for x in domainX:\n",
    "                for i in range(repeatCount):\n",
    "                    temp.append(x)\n",
    "        space.append(temp)\n",
    "        count -= 1\n",
    "    return space\n",
    "           \n",
    "def inv(space):\n",
    "    inverse = []\n",
    "    for col in range(len(space[0])):\n",
    "        temp = []\n",
    "        for row in range(len(space)):\n",
    "            temp.append(space[row][col])\n",
    "        inverse.append(temp)\n",
    "    return inverse\n",
    "\n",
    "#neighborsFromRadious returns an array with the relative reference of the neighborhood\n",
    "#radious = size\n",
    "#neighborhoodType = type of the neighborhood, 0 = moore, 1 = von neumann\n",
    "def neighborsFromRadious(radious,neighborhoodType = 0):\n",
    "    neighbors = []\n",
    "    if neighborhoodType == 0:\n",
    "        for i in range(-radious,radious+1):\n",
    "            for j in range(-radious,radious+1):\n",
    "                neighbors.append([i,j])\n",
    "    elif neighborhoodType == 1:\n",
    "        for i in range(-radious,radious+1):\n",
    "            for j in range(-radious,radious+1):\n",
    "                if abs(i) + abs(j) <= radious:\n",
    "                    neighbors.append([i,j])\n",
    "    else:\n",
    "        neighbors = None\n",
    "        print(\"type not defined\")\n",
    "    \n",
    "    return neighbors"
   ]
  },
  {
   "cell_type": "code",
   "execution_count": 124,
   "metadata": {},
   "outputs": [],
   "source": [
    "domainY = [0,1]\n",
    "domainX = [0,1]\n",
    "y = [0]\n",
    "x = [0,1]"
   ]
  },
  {
   "cell_type": "code",
   "execution_count": 96,
   "metadata": {},
   "outputs": [
    {
     "data": {
      "text/plain": [
       "16"
      ]
     },
     "execution_count": 96,
     "metadata": {},
     "output_type": "execute_result"
    }
   ],
   "source": [
    "getMaxRuleSpaceSize(domainY,domainX,y,x)"
   ]
  },
  {
   "cell_type": "code",
   "execution_count": 137,
   "metadata": {},
   "outputs": [],
   "source": [
    "spaceY = np.array(getRuleSpace(len(domainX) ** len(x),domainY))\n",
    "spaceX = np.array(getRuleSpace(len(x),domainX))"
   ]
  },
  {
   "cell_type": "code",
   "execution_count": 134,
   "metadata": {},
   "outputs": [
    {
     "name": "stdout",
     "output_type": "stream",
     "text": [
      "[0 0 0 0]\n",
      "[0 0 0 1]\n",
      "[0 0 1 0]\n",
      "[0 0 1 1]\n",
      "[0 1 0 0]\n",
      "[0 1 0 1]\n",
      "[0 1 1 0]\n",
      "[0 1 1 1]\n",
      "[1 0 0 0]\n",
      "[1 0 0 1]\n",
      "[1 0 1 0]\n",
      "[1 0 1 1]\n",
      "[1 1 0 0]\n",
      "[1 1 0 1]\n",
      "[1 1 1 0]\n",
      "[1 1 1 1]\n"
     ]
    }
   ],
   "source": [
    "for i in range(len(spaceY[0])):\n",
    "    print(np.array(spaceY)[:,i])"
   ]
  },
  {
   "cell_type": "code",
   "execution_count": 139,
   "metadata": {},
   "outputs": [
    {
     "name": "stdout",
     "output_type": "stream",
     "text": [
      "[0 0]\n",
      "[0 1]\n",
      "[1 0]\n",
      "[1 1]\n"
     ]
    }
   ],
   "source": [
    "for i in range(len(spaceX[0])):\n",
    "    print(np.array(spaceX)[:,i])"
   ]
  },
  {
   "cell_type": "code",
   "execution_count": 166,
   "metadata": {},
   "outputs": [
    {
     "data": {
      "text/plain": [
       "[[-2, 0],\n",
       " [-1, -1],\n",
       " [-1, 0],\n",
       " [-1, 1],\n",
       " [0, -2],\n",
       " [0, -1],\n",
       " [0, 0],\n",
       " [0, 1],\n",
       " [0, 2],\n",
       " [1, -1],\n",
       " [1, 0],\n",
       " [1, 1],\n",
       " [2, 0]]"
      ]
     },
     "execution_count": 166,
     "metadata": {},
     "output_type": "execute_result"
    }
   ],
   "source": [
    "neighborsFromRadious(2,1)"
   ]
  },
  {
   "cell_type": "code",
   "execution_count": null,
   "metadata": {},
   "outputs": [],
   "source": [
    "paddingType = 1\n",
    "paddingValue = 0\n",
    "dim = 0\n",
    "for r in range(1,10):\n",
    "    for step in range(1,timesteps):\n",
    "        df1 = pd.read_csv(\"data/step_{}.csv\".format(step-1),header=None).values\n",
    "        df2 = pd.read_csv(\"data/step_{}.csv\".format(step),header=None).values\n",
    "        dim = df1.shape\n",
    "        planned = df1.reshape(-1) \n",
    "        processed = []\n",
    "        for i in range(dim[0]):\n",
    "            for j in range(dim[1]):\n",
    "                neighbors = getNeighbors([i,j],kernel,dim)\n",
    "                values = getNeighborsValue(planned,neighbors,paddingType,paddingValue)\n",
    "                if values != None:\n",
    "                    temp = []\n",
    "                    for key in values:\n",
    "                        temp.append(values[key])\n",
    "                    temp.append(df2[i][j])\n",
    "                    processed.append(temp)\n",
    "            "
   ]
  }
 ],
 "metadata": {
  "kernelspec": {
   "display_name": "Python 3",
   "language": "python",
   "name": "python3"
  },
  "language_info": {
   "codemirror_mode": {
    "name": "ipython",
    "version": 3
   },
   "file_extension": ".py",
   "mimetype": "text/x-python",
   "name": "python",
   "nbconvert_exporter": "python",
   "pygments_lexer": "ipython3",
   "version": "3.6.8"
  }
 },
 "nbformat": 4,
 "nbformat_minor": 2
}
