{
 "cells": [
  {
   "cell_type": "code",
   "execution_count": 1,
   "metadata": {},
   "outputs": [],
   "source": [
    "from sympy import *\n",
    "import numpy as np\n",
    "import pandas as pd\n",
    "from copy import copy,deepcopy\n",
    "import random\n",
    "import matplotlib.pyplot as plt\n",
    "import sys"
   ]
  },
  {
   "cell_type": "code",
   "execution_count": 20,
   "metadata": {},
   "outputs": [],
   "source": [
    "def plotCA(data,size=(20,10)):\n",
    "    fig, ax = plt.subplots(figsize=size)\n",
    "    im = ax.imshow(data,plt.cm.Greys)\n",
    "    plt.ylabel(\"steps\",fontsize=\"large\")\n",
    "    for i in range(len(data)):\n",
    "        for j in range(len(data[i])):\n",
    "            c = \"w\"\n",
    "            if data[i][j] <= 2:\n",
    "                c = \"black\"\n",
    "            text = ax.text(j, i, data[i][j],\n",
    "                           ha=\"center\", va=\"center\", color=c,fontsize=\"large\")\n",
    "    plt.show()\n",
    "\n",
    "def cpAp(e,lst):\n",
    "    a = np.append(e,lst)\n",
    "    return a\n",
    "\n",
    "def aptitud(pos,neg,notapt,removedPos,removedNeg):\n",
    "    pos_values = {}\n",
    "    neg_values = {}\n",
    "    onlykeys = {x[0] for x in notapt}\n",
    "    jstr = [str(j) for j in range(len(pos[0]))]\n",
    "    for s in jstr:\n",
    "        pos_values[str(s)+\",1\"] = 0\n",
    "        pos_values[str(s)+\",0\"] = 0\n",
    "        neg_values[str(s)+\",1\"] = 0\n",
    "        neg_values[str(s)+\",0\"] = 0\n",
    "    \n",
    "    for i in range(len(pos)):\n",
    "        if i not in removedPos:\n",
    "            for j,s in enumerate(jstr):\n",
    "                if pos[i][j] == 1:\n",
    "                    key = s+\",1\"\n",
    "                else:\n",
    "                    key = s+\",0\"\n",
    "                if key not in onlykeys:\n",
    "                    pos_values[key] += 1\n",
    "    for i in range(len(neg)):\n",
    "        if i not in removedNeg:\n",
    "            for j,s in enumerate(jstr):\n",
    "                if neg[i][j] == 1:\n",
    "                    key = s+\",1\"\n",
    "                else:\n",
    "                    key = s+\",0\"\n",
    "                if key not in onlykeys:\n",
    "                    neg_values[key] += 1\n",
    "    res = []\n",
    "    for key in pos_values:\n",
    "        if neg_values[key] == 0 and pos_values[key] > 0:\n",
    "            res.append([key,100000])\n",
    "        elif neg_values[key] > 0:\n",
    "            res.append([key,pos_values[key]/neg_values[key]])\n",
    "            \n",
    "    res.sort(key=lambda x: x[1],reverse=True)\n",
    "    #mx = max(res, key=lambda x: x[1])\n",
    "    #res = list(filter(lambda x: x[1] == mx[1],res))\n",
    "    return res\n",
    "\n",
    "def removeBest(pos,key,removedPos):\n",
    "    key = key.split(\",\")\n",
    "    index = int(key[0])\n",
    "    value = int(key[1])\n",
    "    for i in range(len(pos)):\n",
    "        if i not in removedPos:\n",
    "            if pos[i][index] == value:\n",
    "                removedPos[i] = True\n",
    "\n",
    "def removeNeg(neg,t,removedNeg):\n",
    "    newneg = []\n",
    "    for i in range(len(neg)):\n",
    "        if i not in removedNeg:\n",
    "            add = False\n",
    "            for j in range(len(t)):\n",
    "                key = t[j]\n",
    "                key = key.split(\",\")\n",
    "                index = int(key[0])\n",
    "                value = int(key[1])\n",
    "                if neg[i][index] == value:\n",
    "                    add = True\n",
    "                    break\n",
    "            if not add:\n",
    "                removedNeg[i] = True\n",
    "\n",
    "def ocat(data,m):\n",
    "    neg = data[\"neg\"]\n",
    "    pos = data[\"pos\"]\n",
    "    C = []\n",
    "    removedNeg = {}\n",
    "    while len(neg) > len(removedNeg):\n",
    "        t = []\n",
    "        removedPos = {}\n",
    "        notapt = []\n",
    "        while len(pos) > len(removedPos):\n",
    "            apt = aptitud(pos,neg,notapt,removedPos,removedNeg)\n",
    "            if m >= len(apt):\n",
    "                notapt = []\n",
    "            else:\n",
    "                notapt = apt[m:]\n",
    "                apt = apt[:m]\n",
    "            if len(apt) > 0:\n",
    "                best = apt[random.randint(0,len(apt)-1)]\n",
    "                t.append(best[0])\n",
    "                removeBest(pos,best[0],removedPos)\n",
    "        C.append(t)\n",
    "        removeNeg(neg,t,removedNeg)\n",
    "    return C\n",
    "\n",
    "def dictToMat(dic):\n",
    "    matrix = []\n",
    "    for key in dic:\n",
    "        for key2 in dic[key]:\n",
    "            temp = copy(dic[key][key2])\n",
    "            temp.append(key)\n",
    "            matrix.append(temp)\n",
    "    return matrix\n",
    "\n",
    "def getDomain(data):\n",
    "    #encontramos los valores observados de cada atributo en los subproblemas de aprendizaje\n",
    "    domain = {}\n",
    "    for row in data:\n",
    "        for j,col in enumerate(row):\n",
    "            if j not in domain:\n",
    "                domain[j] = []\n",
    "            if col not in domain[j]:\n",
    "                domain[j].append(col)\n",
    "    for key in domain:\n",
    "        domain[key].sort()\n",
    "    return domain\n",
    "\n",
    "def binarize(data):\n",
    "    #binarizamos los subproblemas de aprendizaje\n",
    "    binarizedMatrix = []\n",
    "    for row in data:\n",
    "        rtemp = []\n",
    "        for j,col in enumerate(row):\n",
    "            if j < len(row)-1:\n",
    "                for val in domain[j]:\n",
    "                    if col >= val:\n",
    "                        rtemp.append(1)\n",
    "                    else:\n",
    "                        rtemp.append(0)\n",
    "            else:\n",
    "                rtemp.append(col)\n",
    "        binarizedMatrix.append(rtemp)\n",
    "    return binarizedMatrix\n",
    "\n",
    "def getPosNeg(domain,binarized):\n",
    "    # obtenemos los ejemplos positivos y negativos para el atributo x[1] de los subproblemas\n",
    "    keys = list(domain.keys())\n",
    "    pos_neg = {}\n",
    "    pos = {}\n",
    "    for row in binarized:\n",
    "        for val in domain[keys[-1]]:\n",
    "            if val not in pos_neg:\n",
    "                pos_neg[val] = {\"pos\":[],\"neg\":[]}\n",
    "            if val not in pos:\n",
    "                pos[val] = {}\n",
    "            temp = \"\".join(map(str,row[:-1]))\n",
    "            if val == row[-1]:\n",
    "                if temp not in pos[val]:\n",
    "                    pos_neg[val][\"pos\"].append(row[:-1])\n",
    "                    pos[val][temp] = 0 \n",
    "            else:\n",
    "                if temp not in pos[val]:\n",
    "                    pos_neg[val][\"neg\"].append(row[:-1])\n",
    "                    pos[val][temp] = 0 \n",
    "    return pos_neg\n",
    "\n",
    "def getRules(posNeg,m):\n",
    "    rules = {}\n",
    "    for key in posNeg:\n",
    "        if key not in rules:\n",
    "            rules[key] = {}\n",
    "        if len(posNeg[key][\"pos\"]) > 0 and len(posNeg[key][\"neg\"]) > 0:\n",
    "            print(\"learning op \",key)\n",
    "            rules[key] = ocat(posNeg[key],m)\n",
    "    return rules\n",
    "\n",
    "def binarizedToDomain(rules,domain):\n",
    "    keys = list(domain.keys())\n",
    "    oRules = {}\n",
    "    for cls in rules:\n",
    "        if cls not in oRules:\n",
    "            oRules[cls] = {}\n",
    "        prop = []\n",
    "        for clause in rules[cls]:\n",
    "            expr = []\n",
    "            for term in clause:\n",
    "                col = 0\n",
    "                ind = int(term.split(\",\")[0])\n",
    "                val = int(term.split(\",\")[1])\n",
    "                bottom = 0\n",
    "                for key in keys:\n",
    "                    if ind >= bottom and ind <= (bottom + len(domain[key])):\n",
    "                        col = key\n",
    "                        ind -= bottom\n",
    "                        break\n",
    "                    bottom += len(domain[key])\n",
    "                relational = (\">=\" if val== 1 else \"<\")\n",
    "                t = \"A[{}] {} {}\".format(col,relational,domain[col][ind])\n",
    "                expr.append(t)\n",
    "            prop.append(\"({})\".format(\" or \".join(expr)))\n",
    "        oRules[cls] = \" and \".join(prop)\n",
    "    return oRules\n",
    "\n",
    "def getNeighbors(dataframe,r):\n",
    "    #creamos un problema de aprendizaje para cada celda\n",
    "    neighbors = {}\n",
    "    for i,row in dataframe.iterrows():\n",
    "        for j in range(len(dataframe.columns)):\n",
    "            if j not in neighbors:\n",
    "                neighbors[j] = []\n",
    "            temp = []\n",
    "            for x in range(1,(r+1)):\n",
    "                if (j-x) < 0:\n",
    "                    temp.append(0)\n",
    "                else:\n",
    "                    temp.append(row[j-x])\n",
    "            temp.append(row[j])\n",
    "            for x in range(1,(r+1)):\n",
    "                if (j+x) >= len(dataframe.columns):\n",
    "                    temp.append(0)\n",
    "                else:\n",
    "                    temp.append(row[j+x])\n",
    "            neighbors[j].append(temp)\n",
    "    return neighbors\n",
    "\n",
    "def getClassState(neighbors):\n",
    "    problem = {}\n",
    "    for col in neighbors:\n",
    "        for row in range(1,len(neighbors[col])):\n",
    "            icenter = floor(len(neighbors[col][row])/2)\n",
    "            if neighbors[col][row][icenter] not in problem:\n",
    "                problem[neighbors[col][row][icenter]] = {}\n",
    "            k = \",\".join(map(str,neighbors[col][row-1]))\n",
    "            if k not in problem[neighbors[col][row][icenter]]:\n",
    "                problem[neighbors[col][row][icenter]][k] = neighbors[col][row-1]\n",
    "    return problem"
   ]
  },
  {
   "cell_type": "code",
   "execution_count": 3,
   "metadata": {},
   "outputs": [],
   "source": [
    "def testRulesOneDimension(initConfig,r,iterations,rules):\n",
    "    appliedRules = {}\n",
    "    evolution = [] \n",
    "    curr = copy(initConfig)\n",
    "    evolution.append(curr)\n",
    "    for step in range(iterations):\n",
    "        if step not in appliedRules:\n",
    "            appliedRules[step] = {}\n",
    "        newCurr = copy(curr)\n",
    "        for i,cell in enumerate(curr):\n",
    "            if i not in appliedRules[step]:\n",
    "                appliedRules[step][i] = []\n",
    "            for j,op in enumerate(rules):\n",
    "                A = []\n",
    "                for x in range(1,(r+1)):\n",
    "                    if (i-x) < 0:\n",
    "                        A.append(0)\n",
    "                    else:\n",
    "                        A.append(curr[i-x])\n",
    "                A.append(curr[i])\n",
    "                for x in range(1,(r+1)):\n",
    "                    if (i+x) >= len(curr):\n",
    "                        A.append(0)\n",
    "                    else:\n",
    "                        A.append(curr[i+x])\n",
    "                if eval(rules[op]):\n",
    "                    newCurr[i] = op\n",
    "                    appliedRules[step][i].append(op)\n",
    "        curr = newCurr\n",
    "        evolution.append(curr)\n",
    "    return {\"history\":evolution,\"appliedRules\":appliedRules}                      "
   ]
  },
  {
   "cell_type": "markdown",
   "metadata": {},
   "source": [
    "<img src=\"images/squaringCA.png\"/>"
   ]
  },
  {
   "cell_type": "markdown",
   "metadata": {},
   "source": [
    "Para cada uno de los atributos encontrar su funcion de trancision local\n",
    "## cargamos el dataset del automata celular que calcula 2^2"
   ]
  },
  {
   "cell_type": "code",
   "execution_count": 4,
   "metadata": {},
   "outputs": [
    {
     "data": {
      "image/png": "[encoded data removed]",
      "text/plain": [
       "<Figure size 1440x720 with 1 Axes>"
      ]
     },
     "metadata": {},
     "output_type": "display_data"
    }
   ],
   "source": [
    "dataframe = pd.read_csv(\"data/2_square.csv\")\n",
    "plotCA(dataframe.values)"
   ]
  },
  {
   "cell_type": "markdown",
   "metadata": {},
   "source": [
    "### Eliminamos las filas redundantes"
   ]
  },
  {
   "cell_type": "code",
   "execution_count": 25,
   "metadata": {},
   "outputs": [
    {
     "data": {
      "image/png": "[encoded data removed]",
      "text/plain": [
       "<Figure size 1080x720 with 1 Axes>"
      ]
     },
     "metadata": {},
     "output_type": "display_data"
    }
   ],
   "source": [
    "dataframe = dataframe.iloc[np.tile([True,False], 7),:]\n",
    "plotCA(dataframe.values,(15,10))"
   ]
  },
  {
   "cell_type": "markdown",
   "metadata": {},
   "source": [
    "## Set the radious of the neighborhood"
   ]
  },
  {
   "cell_type": "code",
   "execution_count": 26,
   "metadata": {},
   "outputs": [],
   "source": [
    "radious = 1"
   ]
  },
  {
   "cell_type": "code",
   "execution_count": 27,
   "metadata": {},
   "outputs": [],
   "source": [
    "neighbors = getNeighbors(dataframe,radious)"
   ]
  },
  {
   "cell_type": "code",
   "execution_count": 28,
   "metadata": {},
   "outputs": [],
   "source": [
    "problem = getClassState(neighbors)"
   ]
  },
  {
   "cell_type": "code",
   "execution_count": 29,
   "metadata": {},
   "outputs": [
    {
     "data": {
      "text/plain": [
       "[[0, 1, 1, 4],\n",
       " [0, 4, 6, 1],\n",
       " [0, 1, 7, 1],\n",
       " [3, 0, 0, 1],\n",
       " [2, 6, 0, 1],\n",
       " [5, 1, 1, 1],\n",
       " [5, 1, 6, 1],\n",
       " [2, 1, 6, 1],\n",
       " [6, 0, 0, 1],\n",
       " [1, 6, 1, 1],\n",
       " [6, 1, 0, 1],\n",
       " [1, 0, 0, 1],\n",
       " [0, 1, 3, 0],\n",
       " [0, 0, 2, 0],\n",
       " [0, 0, 0, 0],\n",
       " [1, 0, 0, 0],\n",
       " [1, 1, 3, 6],\n",
       " [2, 1, 0, 6],\n",
       " [1, 1, 0, 6],\n",
       " [1, 6, 0, 6],\n",
       " [4, 6, 2, 7],\n",
       " [1, 7, 2, 3],\n",
       " [1, 3, 5, 2],\n",
       " [0, 2, 5, 2],\n",
       " [0, 2, 2, 2],\n",
       " [1, 3, 0, 2],\n",
       " [6, 2, 1, 2],\n",
       " [2, 5, 1, 2],\n",
       " [2, 2, 1, 2],\n",
       " [7, 2, 6, 5],\n",
       " [3, 5, 1, 5]]"
      ]
     },
     "execution_count": 29,
     "metadata": {},
     "output_type": "execute_result"
    }
   ],
   "source": [
    "matrix = dictToMat(problem)\n",
    "matrix"
   ]
  },
  {
   "cell_type": "code",
   "execution_count": 30,
   "metadata": {},
   "outputs": [],
   "source": [
    "domain = getDomain(matrix)"
   ]
  },
  {
   "cell_type": "code",
   "execution_count": 31,
   "metadata": {},
   "outputs": [],
   "source": [
    "binarized = binarize(matrix)"
   ]
  },
  {
   "cell_type": "code",
   "execution_count": 32,
   "metadata": {},
   "outputs": [
    {
     "name": "stdout",
     "output_type": "stream",
     "text": [
      "[[1, 0, 0, 0, 0, 0, 0, 0, 1, 1, 1, 1, 1, 0, 0, 0, 1, 1, 1, 1, 1, 1, 0], [1, 0, 0, 0, 0, 0, 0, 0, 1, 1, 0, 0, 0, 0, 0, 0, 1, 1, 1, 1, 1, 1, 1], [1, 1, 1, 1, 0, 0, 0, 0, 1, 0, 0, 0, 0, 0, 0, 0, 1, 0, 0, 0, 0, 0, 0], [1, 1, 1, 0, 0, 0, 0, 0, 1, 1, 1, 1, 1, 1, 1, 0, 1, 0, 0, 0, 0, 0, 0], [1, 1, 1, 1, 1, 1, 0, 0, 1, 1, 0, 0, 0, 0, 0, 0, 1, 1, 0, 0, 0, 0, 0], [1, 1, 1, 1, 1, 1, 0, 0, 1, 1, 0, 0, 0, 0, 0, 0, 1, 1, 1, 1, 1, 1, 0], [1, 1, 1, 0, 0, 0, 0, 0, 1, 1, 0, 0, 0, 0, 0, 0, 1, 1, 1, 1, 1, 1, 0], [1, 1, 1, 1, 1, 1, 1, 0, 1, 0, 0, 0, 0, 0, 0, 0, 1, 0, 0, 0, 0, 0, 0], [1, 1, 0, 0, 0, 0, 0, 0, 1, 1, 1, 1, 1, 1, 1, 0, 1, 1, 0, 0, 0, 0, 0], [1, 1, 1, 1, 1, 1, 1, 0, 1, 1, 0, 0, 0, 0, 0, 0, 1, 0, 0, 0, 0, 0, 0], [1, 1, 0, 0, 0, 0, 0, 0, 1, 0, 0, 0, 0, 0, 0, 0, 1, 0, 0, 0, 0, 0, 0]] [[1, 0, 0, 0, 0, 0, 0, 0, 1, 1, 0, 0, 0, 0, 0, 0, 1, 1, 0, 0, 0, 0, 0], [1, 0, 0, 0, 0, 0, 0, 0, 1, 1, 0, 0, 0, 0, 0, 0, 1, 1, 1, 1, 0, 0, 0], [1, 0, 0, 0, 0, 0, 0, 0, 1, 0, 0, 0, 0, 0, 0, 0, 1, 1, 1, 0, 0, 0, 0], [1, 0, 0, 0, 0, 0, 0, 0, 1, 0, 0, 0, 0, 0, 0, 0, 1, 0, 0, 0, 0, 0, 0], [1, 1, 0, 0, 0, 0, 0, 0, 1, 1, 0, 0, 0, 0, 0, 0, 1, 1, 1, 1, 0, 0, 0], [1, 1, 1, 0, 0, 0, 0, 0, 1, 1, 0, 0, 0, 0, 0, 0, 1, 0, 0, 0, 0, 0, 0], [1, 1, 0, 0, 0, 0, 0, 0, 1, 1, 0, 0, 0, 0, 0, 0, 1, 0, 0, 0, 0, 0, 0], [1, 1, 0, 0, 0, 0, 0, 0, 1, 1, 1, 1, 1, 1, 1, 0, 1, 0, 0, 0, 0, 0, 0], [1, 1, 1, 1, 1, 0, 0, 0, 1, 1, 1, 1, 1, 1, 1, 0, 1, 1, 1, 0, 0, 0, 0], [1, 1, 0, 0, 0, 0, 0, 0, 1, 1, 1, 1, 1, 1, 1, 1, 1, 1, 1, 0, 0, 0, 0], [1, 1, 0, 0, 0, 0, 0, 0, 1, 1, 1, 1, 0, 0, 0, 0, 1, 1, 1, 1, 1, 0, 0], [1, 0, 0, 0, 0, 0, 0, 0, 1, 1, 1, 0, 0, 0, 0, 0, 1, 1, 1, 1, 1, 0, 0], [1, 0, 0, 0, 0, 0, 0, 0, 1, 1, 1, 0, 0, 0, 0, 0, 1, 1, 1, 0, 0, 0, 0], [1, 1, 0, 0, 0, 0, 0, 0, 1, 1, 1, 1, 0, 0, 0, 0, 1, 0, 0, 0, 0, 0, 0], [1, 1, 1, 1, 1, 1, 1, 0, 1, 1, 1, 0, 0, 0, 0, 0, 1, 1, 0, 0, 0, 0, 0], [1, 1, 1, 0, 0, 0, 0, 0, 1, 1, 1, 1, 1, 1, 0, 0, 1, 1, 0, 0, 0, 0, 0], [1, 1, 1, 0, 0, 0, 0, 0, 1, 1, 1, 0, 0, 0, 0, 0, 1, 1, 0, 0, 0, 0, 0], [1, 1, 1, 1, 1, 1, 1, 1, 1, 1, 1, 0, 0, 0, 0, 0, 1, 1, 1, 1, 1, 1, 0], [1, 1, 1, 1, 0, 0, 0, 0, 1, 1, 1, 1, 1, 1, 0, 0, 1, 1, 0, 0, 0, 0, 0]]\n"
     ]
    }
   ],
   "source": [
    "posNeg = getPosNeg(domain,binarized)\n",
    "print(posNeg[1][\"pos\"],posNeg[1][\"neg\"])"
   ]
  },
  {
   "cell_type": "code",
   "execution_count": 53,
   "metadata": {},
   "outputs": [
    {
     "name": "stdout",
     "output_type": "stream",
     "text": [
      "learning op  0\n",
      "learning op  1\n"
     ]
    },
    {
     "ename": "ValueError",
     "evalue": "empty range for randrange() (0,0, 0)",
     "output_type": "error",
     "traceback": [
      "\u001b[0;31m---------------------------------------------------------------------------\u001b[0m",
      "\u001b[0;31mValueError\u001b[0m                                Traceback (most recent call last)",
      "\u001b[0;32m<ipython-input-53-4a0e7cfd911d>\u001b[0m in \u001b[0;36m<module>\u001b[0;34m()\u001b[0m\n\u001b[0;32m----> 1\u001b[0;31m \u001b[0mrules\u001b[0m \u001b[0;34m=\u001b[0m \u001b[0mgetRules\u001b[0m\u001b[0;34m(\u001b[0m\u001b[0mposNeg\u001b[0m\u001b[0;34m,\u001b[0m\u001b[0;36m10\u001b[0m\u001b[0;34m)\u001b[0m\u001b[0;34m\u001b[0m\u001b[0;34m\u001b[0m\u001b[0m\n\u001b[0m",
      "\u001b[0;32m<ipython-input-20-e08b9155b8cd>\u001b[0m in \u001b[0;36mgetRules\u001b[0;34m(posNeg, m)\u001b[0m\n\u001b[1;32m    173\u001b[0m         \u001b[0;32mif\u001b[0m \u001b[0mlen\u001b[0m\u001b[0;34m(\u001b[0m\u001b[0mposNeg\u001b[0m\u001b[0;34m[\u001b[0m\u001b[0mkey\u001b[0m\u001b[0;34m]\u001b[0m\u001b[0;34m[\u001b[0m\u001b[0;34m\"pos\"\u001b[0m\u001b[0;34m]\u001b[0m\u001b[0;34m)\u001b[0m \u001b[0;34m>\u001b[0m \u001b[0;36m0\u001b[0m \u001b[0;32mand\u001b[0m \u001b[0mlen\u001b[0m\u001b[0;34m(\u001b[0m\u001b[0mposNeg\u001b[0m\u001b[0;34m[\u001b[0m\u001b[0mkey\u001b[0m\u001b[0;34m]\u001b[0m\u001b[0;34m[\u001b[0m\u001b[0;34m\"neg\"\u001b[0m\u001b[0;34m]\u001b[0m\u001b[0;34m)\u001b[0m \u001b[0;34m>\u001b[0m \u001b[0;36m0\u001b[0m\u001b[0;34m:\u001b[0m\u001b[0;34m\u001b[0m\u001b[0;34m\u001b[0m\u001b[0m\n\u001b[1;32m    174\u001b[0m             \u001b[0mprint\u001b[0m\u001b[0;34m(\u001b[0m\u001b[0;34m\"learning op \"\u001b[0m\u001b[0;34m,\u001b[0m\u001b[0mkey\u001b[0m\u001b[0;34m)\u001b[0m\u001b[0;34m\u001b[0m\u001b[0;34m\u001b[0m\u001b[0m\n\u001b[0;32m--> 175\u001b[0;31m             \u001b[0mrules\u001b[0m\u001b[0;34m[\u001b[0m\u001b[0mkey\u001b[0m\u001b[0;34m]\u001b[0m \u001b[0;34m=\u001b[0m \u001b[0mocat\u001b[0m\u001b[0;34m(\u001b[0m\u001b[0mposNeg\u001b[0m\u001b[0;34m[\u001b[0m\u001b[0mkey\u001b[0m\u001b[0;34m]\u001b[0m\u001b[0;34m,\u001b[0m\u001b[0mm\u001b[0m\u001b[0;34m)\u001b[0m\u001b[0;34m\u001b[0m\u001b[0;34m\u001b[0m\u001b[0m\n\u001b[0m\u001b[1;32m    176\u001b[0m     \u001b[0;32mreturn\u001b[0m \u001b[0mrules\u001b[0m\u001b[0;34m\u001b[0m\u001b[0;34m\u001b[0m\u001b[0m\n\u001b[1;32m    177\u001b[0m \u001b[0;34m\u001b[0m\u001b[0m\n",
      "\u001b[0;32m<ipython-input-20-e08b9155b8cd>\u001b[0m in \u001b[0;36mocat\u001b[0;34m(data, m)\u001b[0m\n\u001b[1;32m     98\u001b[0m                 \u001b[0mnotapt\u001b[0m \u001b[0;34m=\u001b[0m \u001b[0mapt\u001b[0m\u001b[0;34m[\u001b[0m\u001b[0mm\u001b[0m\u001b[0;34m:\u001b[0m\u001b[0;34m]\u001b[0m\u001b[0;34m\u001b[0m\u001b[0;34m\u001b[0m\u001b[0m\n\u001b[1;32m     99\u001b[0m                 \u001b[0mapt\u001b[0m \u001b[0;34m=\u001b[0m \u001b[0mapt\u001b[0m\u001b[0;34m[\u001b[0m\u001b[0;34m:\u001b[0m\u001b[0mm\u001b[0m\u001b[0;34m]\u001b[0m\u001b[0;34m\u001b[0m\u001b[0;34m\u001b[0m\u001b[0m\n\u001b[0;32m--> 100\u001b[0;31m             \u001b[0mbest\u001b[0m \u001b[0;34m=\u001b[0m \u001b[0mapt\u001b[0m\u001b[0;34m[\u001b[0m\u001b[0mrandom\u001b[0m\u001b[0;34m.\u001b[0m\u001b[0mrandint\u001b[0m\u001b[0;34m(\u001b[0m\u001b[0;36m0\u001b[0m\u001b[0;34m,\u001b[0m\u001b[0mlen\u001b[0m\u001b[0;34m(\u001b[0m\u001b[0mapt\u001b[0m\u001b[0;34m)\u001b[0m\u001b[0;34m-\u001b[0m\u001b[0;36m1\u001b[0m\u001b[0;34m)\u001b[0m\u001b[0;34m]\u001b[0m\u001b[0;34m\u001b[0m\u001b[0;34m\u001b[0m\u001b[0m\n\u001b[0m\u001b[1;32m    101\u001b[0m             \u001b[0mt\u001b[0m\u001b[0;34m.\u001b[0m\u001b[0mappend\u001b[0m\u001b[0;34m(\u001b[0m\u001b[0mbest\u001b[0m\u001b[0;34m[\u001b[0m\u001b[0;36m0\u001b[0m\u001b[0;34m]\u001b[0m\u001b[0;34m)\u001b[0m\u001b[0;34m\u001b[0m\u001b[0;34m\u001b[0m\u001b[0m\n\u001b[1;32m    102\u001b[0m             \u001b[0mremoveBest\u001b[0m\u001b[0;34m(\u001b[0m\u001b[0mpos\u001b[0m\u001b[0;34m,\u001b[0m\u001b[0mbest\u001b[0m\u001b[0;34m[\u001b[0m\u001b[0;36m0\u001b[0m\u001b[0;34m]\u001b[0m\u001b[0;34m,\u001b[0m\u001b[0mremovedPos\u001b[0m\u001b[0;34m)\u001b[0m\u001b[0;34m\u001b[0m\u001b[0;34m\u001b[0m\u001b[0m\n",
      "\u001b[0;32m/anaconda3/lib/python3.6/random.py\u001b[0m in \u001b[0;36mrandint\u001b[0;34m(self, a, b)\u001b[0m\n\u001b[1;32m    219\u001b[0m         \"\"\"\n\u001b[1;32m    220\u001b[0m \u001b[0;34m\u001b[0m\u001b[0m\n\u001b[0;32m--> 221\u001b[0;31m         \u001b[0;32mreturn\u001b[0m \u001b[0mself\u001b[0m\u001b[0;34m.\u001b[0m\u001b[0mrandrange\u001b[0m\u001b[0;34m(\u001b[0m\u001b[0ma\u001b[0m\u001b[0;34m,\u001b[0m \u001b[0mb\u001b[0m\u001b[0;34m+\u001b[0m\u001b[0;36m1\u001b[0m\u001b[0;34m)\u001b[0m\u001b[0;34m\u001b[0m\u001b[0;34m\u001b[0m\u001b[0m\n\u001b[0m\u001b[1;32m    222\u001b[0m \u001b[0;34m\u001b[0m\u001b[0m\n\u001b[1;32m    223\u001b[0m     def _randbelow(self, n, int=int, maxsize=1<<BPF, type=type,\n",
      "\u001b[0;32m/anaconda3/lib/python3.6/random.py\u001b[0m in \u001b[0;36mrandrange\u001b[0;34m(self, start, stop, step, _int)\u001b[0m\n\u001b[1;32m    197\u001b[0m             \u001b[0;32mreturn\u001b[0m \u001b[0mistart\u001b[0m \u001b[0;34m+\u001b[0m \u001b[0mself\u001b[0m\u001b[0;34m.\u001b[0m\u001b[0m_randbelow\u001b[0m\u001b[0;34m(\u001b[0m\u001b[0mwidth\u001b[0m\u001b[0;34m)\u001b[0m\u001b[0;34m\u001b[0m\u001b[0;34m\u001b[0m\u001b[0m\n\u001b[1;32m    198\u001b[0m         \u001b[0;32mif\u001b[0m \u001b[0mstep\u001b[0m \u001b[0;34m==\u001b[0m \u001b[0;36m1\u001b[0m\u001b[0;34m:\u001b[0m\u001b[0;34m\u001b[0m\u001b[0;34m\u001b[0m\u001b[0m\n\u001b[0;32m--> 199\u001b[0;31m             \u001b[0;32mraise\u001b[0m \u001b[0mValueError\u001b[0m\u001b[0;34m(\u001b[0m\u001b[0;34m\"empty range for randrange() (%d,%d, %d)\"\u001b[0m \u001b[0;34m%\u001b[0m \u001b[0;34m(\u001b[0m\u001b[0mistart\u001b[0m\u001b[0;34m,\u001b[0m \u001b[0mistop\u001b[0m\u001b[0;34m,\u001b[0m \u001b[0mwidth\u001b[0m\u001b[0;34m)\u001b[0m\u001b[0;34m)\u001b[0m\u001b[0;34m\u001b[0m\u001b[0;34m\u001b[0m\u001b[0m\n\u001b[0m\u001b[1;32m    200\u001b[0m \u001b[0;34m\u001b[0m\u001b[0m\n\u001b[1;32m    201\u001b[0m         \u001b[0;31m# Non-unit step argument supplied.\u001b[0m\u001b[0;34m\u001b[0m\u001b[0;34m\u001b[0m\u001b[0;34m\u001b[0m\u001b[0m\n",
      "\u001b[0;31mValueError\u001b[0m: empty range for randrange() (0,0, 0)"
     ]
    }
   ],
   "source": [
    "rules = getRules(posNeg,10)"
   ]
  },
  {
   "cell_type": "code",
   "execution_count": 54,
   "metadata": {},
   "outputs": [],
   "source": [
    "dRules = binarizedToDomain(rules,domain)"
   ]
  },
  {
   "cell_type": "code",
   "execution_count": 52,
   "metadata": {},
   "outputs": [
    {
     "data": {
      "image/png": "[encoded data removed]",
      "text/plain": [
       "<Figure size 1440x720 with 1 Axes>"
      ]
     },
     "metadata": {},
     "output_type": "display_data"
    },
    {
     "data": {
      "text/plain": [
       "{0: '(A[2] >= 2 or A[1] < 5) and (A[2] < 5) and (A[1] < 1 or A[0] < 1) and (A[1] < 2) and (A[0] < 6) and (A[0] < 2) and (A[0] < 4) and (A[2] >= 3 or A[0] < 2) and (A[2] >= 1 or A[0] < 2) and (A[1] < 1 or A[0] < 3) and (A[0] < 5) and (A[0] < 4) and (A[1] < 1 or A[0] < 5) and (A[0] < 2) and (A[2] >= 2 or A[0] >= 0) and (A[0] < 2) and (A[0] < 5) and (A[0] < 1) and (A[0] >= 0) and (A[1] < 1 or A[0] < 1) and (A[0] >= 0) and (A[0] < 4) and (A[0] < 4) and (A[2] < 1 or A[0] < 4) and (A[2] < 1 or A[0] < 1) and (A[0] < 3) and (A[2] < 1 or A[0] < 1) and (A[2] < 1 or A[0] < 3) and (A[2] >= 2 or A[0] < 1) and (A[0] < 4) and (A[0] >= 0) and (A[2] < 1 or A[0] >= 0) and (A[2] >= 2 or A[0] >= 0) and (A[2] < 1 or A[1] < 1 or A[2] >= 3)',\n",
       " 1: '(A[0] >= 3 or A[0] >= 5 or A[1] >= 4 or A[1] < 1 or A[1] < 2) and (A[1] < 1 or A[2] >= 3 or A[0] >= 3 or A[0] >= 2 or A[1] >= 2) and (A[2] < 1 or A[2] < 1 or A[2] >= 7 or A[1] < 5 or A[1] >= 3) and (A[1] < 5 or A[1] < 2 or A[0] < 3) and (A[0] >= 4 or A[0] >= 5 or A[1] >= 3 or A[2] >= 3 or A[1] < 4) and (A[0] >= 5 or A[0] >= 2 or A[0] < 1 or A[1] >= 3 or A[1] < 2) and (A[0] >= 4 or A[2] >= 7 or A[0] >= 2 or A[1] >= 4 or A[0] < 2) and (A[2] >= 7 or A[2] >= 5 or A[0] >= 1) and (A[1] < 2 or A[1] < 2 or A[2] >= 6 or A[0] < 2 or A[0] < 4) and (A[2] >= 5 or A[1] < 2 or A[2] < 3) and (A[1] < 5 or A[0] >= 4 or A[1] >= 4) and (A[1] < 5 or A[1] < 2 or A[1] >= 2) and (A[2] >= 5 or A[0] >= 3 or A[1] < 1 or A[1] >= 5) and (A[2] < 1 or A[1] < 3 or A[2] >= 6 or A[0] < 2) and (A[0] >= 2 or A[1] < 5 or A[0] < 3) and (A[1] < 5 or A[1] < 5 or A[0] < 7) and (A[1] < 6 or A[1] < 5 or A[1] >= 4) and (A[2] < 2 or A[2] < 2 or A[2] >= 5) and (A[0] < 1 or A[1] < 2 or A[0] < 7) and (A[1] < 1 or A[0] >= 4 or A[2] >= 2 or A[2] >= 1 or A[0] >= 0) and (A[0] >= 5 or A[1] < 2 or A[1] < 5 or A[2] >= 1 or A[0] < 5) and (A[0] < 1 or A[0] >= 3 or A[2] >= 2 or A[0] >= 2 or A[1] < 3 or A[0] < 2) and (A[1] < 1 or A[0] >= 4 or A[2] >= 1 or A[0] >= 2)',\n",
       " 2: '(A[2] < 6) and (A[1] >= 2) and (A[0] < 3 or A[1] < 5) and (A[0] >= 5 or A[0] < 1 or A[0] >= 0) and (A[2] >= 3 or A[0] < 1 or A[1] < 3 or A[1] < 6)',\n",
       " 3: '(A[2] >= 2) and (A[1] >= 3) and (A[1] >= 4) and (A[2] < 6) and (A[0] < 2)',\n",
       " 4: '(A[1] < 4) and (A[2] < 5) and (A[1] >= 1) and (A[0] < 3) and (A[2] < 3) and (A[1] < 2) and (A[2] >= 1)',\n",
       " 5: '(A[0] >= 3) and (A[0] >= 7 or A[2] >= 6 or A[1] >= 5) and (A[0] >= 1) and (A[0] < 4 or A[0] >= 2) and (A[0] >= 0) and (A[0] < 4 or A[0] >= 3) and (A[2] < 2 or A[0] >= 0) and (A[0] < 4 or A[1] >= 2) and (A[1] < 4 or A[0] < 4)',\n",
       " 6: '(A[1] >= 6 or A[0] < 3) and (A[1] < 2 or A[2] < 5) and (A[2] < 6) and (A[1] < 3 or A[1] < 4 or A[1] >= 5) and (A[1] >= 1) and (A[1] < 5 or A[1] < 5 or A[0] >= 1) and (A[1] < 3 or A[2] >= 3 or A[1] >= 3) and (A[1] < 5 or A[0] >= 1) and (A[0] >= 1) and (A[1] < 5 or A[1] < 5 or A[0] < 3) and (A[1] < 3 or A[1] < 3 or A[0] >= 0) and (A[1] < 5 or A[1] < 7) and (A[2] >= 2 or A[1] < 2 or A[0] >= 1) and (A[1] < 4 or A[1] < 6 or A[0] < 2) and (A[1] < 2 or A[1] < 4 or A[1] >= 3) and (A[0] >= 0) and (A[0] >= 1) and (A[1] < 5 or A[0] >= 0) and (A[2] >= 2 or A[0] >= 1) and (A[2] >= 3 or A[0] >= 1) and (A[2] >= 2 or A[0] < 2 or A[0] >= 1) and (A[0] >= 0) and (A[0] >= 0) and (A[1] < 2 or A[0] >= 1) and (A[1] < 2 or A[1] < 4 or A[1] >= 6) and (A[0] >= 0) and (A[2] >= 2 or A[1] < 6 or A[0] < 3) and (A[1] < 5 or A[1] < 5 or A[1] >= 6) and (A[1] < 6 or A[1] < 3 or A[0] < 4) and (A[1] < 3 or A[0] < 2) and (A[2] >= 3 or A[1] < 6 or A[1] >= 4) and (A[0] >= 0) and (A[2] >= 2 or A[0] >= 0) and (A[2] < 1 or A[2] < 1 or A[1] < 3) and (A[2] < 1 or A[1] < 2) and (A[2] >= 3 or A[0] >= 0) and (A[0] >= 0) and (A[2] >= 2 or A[1] < 2 or A[0] >= 1) and (A[1] < 2 or A[1] >= 4)',\n",
       " 7: '(A[2] >= 1) and (A[1] >= 3) and (A[0] >= 1) and (A[0] >= 3) and (A[1] >= 6)'}"
      ]
     },
     "execution_count": 52,
     "metadata": {},
     "output_type": "execute_result"
    }
   ],
   "source": [
    "res = testRulesOneDimension([1,1,3,0,0,0,0,0],radious,18,dRules)\n",
    "plotCA(res[\"history\"])\n",
    "dRules"
   ]
  },
  {
   "cell_type": "code",
   "execution_count": 24,
   "metadata": {},
   "outputs": [
    {
     "data": {
      "text/plain": [
       "[[1, 1, 3, 0, 0, 0, 0, 0],\n",
       " [1, 4, 5, 0, 0, 0, 0, 0],\n",
       " [4, 6, 2, 1, 0, 0, 0, 0],\n",
       " [7, 1, 5, 1, 0, 0, 0, 0],\n",
       " [1, 7, 2, 6, 0, 0, 0, 0],\n",
       " [1, 2, 3, 1, 1, 0, 0, 0],\n",
       " [1, 3, 5, 1, 1, 0, 0, 0],\n",
       " [0, 5, 2, 6, 1, 0, 0, 0],\n",
       " [0, 2, 5, 1, 6, 0, 0, 0],\n",
       " [0, 2, 2, 6, 1, 1, 0, 0],\n",
       " [0, 2, 2, 1, 6, 1, 0, 0],\n",
       " [0, 2, 2, 1, 1, 6, 0, 0],\n",
       " [0, 2, 2, 1, 1, 1, 1, 0],\n",
       " [0, 2, 2, 1, 1, 1, 1, 0],\n",
       " [0, 2, 2, 1, 1, 1, 1, 0],\n",
       " [0, 2, 2, 1, 1, 1, 1, 0],\n",
       " [0, 2, 2, 1, 1, 1, 1, 0],\n",
       " [0, 2, 2, 1, 1, 1, 1, 0],\n",
       " [0, 2, 2, 1, 1, 1, 1, 0]]"
      ]
     },
     "execution_count": 24,
     "metadata": {},
     "output_type": "execute_result"
    }
   ],
   "source": [
    "res[\"history\"]"
   ]
  },
  {
   "cell_type": "markdown",
   "metadata": {},
   "source": [
    "## Simplificacion"
   ]
  },
  {
   "cell_type": "code",
   "execution_count": 278,
   "metadata": {},
   "outputs": [
    {
     "data": {
      "text/plain": [
       "{0: '(A1 < 4) and (A1 < 2) and (A1 < 1 or A0 < 1) and (A0 < 1) and (A2 < 5) and (A1 < 1 or A2 >= 2)',\n",
       " 1: '(A1 < 5 or A0 < 2 or A2 < 1) and (A2 < 6 or A0 < 4 or A1 < 2) and (A2 < 1 or A2 >= 5 or A1 >= 4 or A0 >= 4) and (A0 < 5 or A2 < 1 or A2 >= 6 or A1 < 2) and (A1 < 3 or A1 >= 6 or A0 >= 5 or A0 < 1) and (A2 < 2 or A2 >= 6 or A1 < 2) and (A1 < 1 or A0 >= 2 or A2 >= 1) and (A0 != 2 or A2 >= 3 or A1 >= 3) and (A0 >= 1 or A2 >= 2)',\n",
       " 2: '(A1 < 5 or A0 < 3) and (A0 < 4 or A2 < 6) and (A1 < 6) and (A0 >= 2 or A1 >= 2) and (A2 >= 1 or A1 >= 3) and (A1 >= 2) and (A2 < 6 or A1 < 3)',\n",
       " 3: '(A1 >= 7)',\n",
       " 4: '(A1 < 3) and (A0 < 4) and (A0 < 2) and (A1 < 2) and (A2 >= 1) and (A0 < 1) and (A1 >= 1) and (A2 < 3)',\n",
       " 5: '(A1 >= 4 or A0 >= 6) and (A0 >= 3) and (A1 >= 5 or A2 >= 3) and (A1 < 6)',\n",
       " 6: '(A1 >= 6 or A1 < 3) and (A2 < 1 or A0 < 4) and (A1 >= 6 or A0 < 2 or A2 < 1) and (A2 < 1 or A2 >= 3) and (A1 >= 6 or A2 < 1 or A0 >= 1) and (A0 >= 1) and (A1 >= 1) and (A1 >= 4 or A0 < 4) and (A0 < 2 or A1 < 2)',\n",
       " 7: '(A1 >= 6) and (A0 >= 3)'}"
      ]
     },
     "execution_count": 278,
     "metadata": {},
     "output_type": "execute_result"
    }
   ],
   "source": [
    "keys = list(domain.keys())\n",
    "oRules = {}\n",
    "for cls in rules:\n",
    "    if cls not in oRules:\n",
    "        oRules[cls] = {}\n",
    "    prop = []\n",
    "    for clause in rules[cls]:\n",
    "        expr = {}\n",
    "        for term in clause:\n",
    "            col = 0\n",
    "            ind = int(term.split(\",\")[0])\n",
    "            val = int(term.split(\",\")[1])\n",
    "            bottom = 0\n",
    "            for key in keys:\n",
    "                if ind >= bottom and ind <= (bottom + len(domain[key])):\n",
    "                    col = key\n",
    "                    ind -= bottom\n",
    "                    break\n",
    "                bottom += len(domain[key])\n",
    "            relational = (\">=\" if val== 1 else \"<\")\n",
    "            if col not in expr:\n",
    "                expr[col] = {}\n",
    "            if relational not in expr[col]:\n",
    "                expr[col][relational] = None\n",
    "            if val == 1:\n",
    "                if expr[col][relational] == None:\n",
    "                    expr[col][relational] = sys.maxsize\n",
    "                expr[col][relational] = min(expr[col][relational],domain[col][ind])\n",
    "            else:\n",
    "                if expr[col][relational] == None:\n",
    "                    expr[col][relational] = -sys.maxsize\n",
    "                expr[col][relational] = max(expr[col][relational],domain[col][ind])\n",
    "        expr2 = []\n",
    "        for col in expr:\n",
    "            if len(expr[col]) == 2:\n",
    "                if expr[col][\">=\"]-1 == expr[col][\"<\"]:\n",
    "                    expr[col][\"!=\"] = expr[col][\"<\"]\n",
    "                    del expr[col][\">=\"]\n",
    "                    del expr[col][\"<\"]\n",
    "        for col in expr:\n",
    "            for rel in expr[col]:\n",
    "                t = \"A{} {} {}\".format(col,rel,expr[col][rel])\n",
    "                expr2.append(t)\n",
    "        prop.append(\"({})\".format(\" or \".join(expr2)))\n",
    "    oRules[cls] = \" and \".join(prop)\n",
    "oRules"
   ]
  },
  {
   "cell_type": "code",
   "execution_count": 62,
   "metadata": {},
   "outputs": [
    {
     "data": {
      "image/png": "[encoded data removed]",
      "text/plain": [
       "<Figure size 1440x720 with 1 Axes>"
      ]
     },
     "metadata": {
      "needs_background": "light"
     },
     "output_type": "display_data"
    }
   ],
   "source": [
    "res = testRulesOneDimension([1,1,3,0,0,0,0,0],18,oRules)\n",
    "plotCA(res[\"history\"])"
   ]
  },
  {
   "cell_type": "code",
   "execution_count": 63,
   "metadata": {},
   "outputs": [
    {
     "data": {
      "text/plain": [
       "{'A0<2': 'X0',\n",
       " 'A2<4': 'X1',\n",
       " 'A1<2': 'X2',\n",
       " 'A0<5': 'X3',\n",
       " 'A1<1': 'X4',\n",
       " 'A0<1': 'X5',\n",
       " 'A2>=3': 'X6',\n",
       " 'A0<4': 'X7',\n",
       " 'A1>=6': 'X8',\n",
       " 'A1<7': 'X9',\n",
       " 'A2<2': 'X10',\n",
       " 'A0<6': 'X11',\n",
       " 'A1>=1': 'X12',\n",
       " 'A0>=2': 'X13',\n",
       " 'A0>=5': 'X14',\n",
       " 'A2<3': 'X15',\n",
       " 'A2>=5': 'X16',\n",
       " 'A1!=3': 'X17',\n",
       " 'A2!=3': 'X18',\n",
       " 'A2<5': 'X19',\n",
       " 'A1<4': 'X20',\n",
       " 'A1>=2': 'X21',\n",
       " 'A1>=4': 'X22',\n",
       " 'A2>=2': 'X23',\n",
       " 'A1<6': 'X24',\n",
       " 'A0<3': 'X25',\n",
       " 'A0>=7': 'X26',\n",
       " 'A2>=1': 'X27',\n",
       " 'A1<3': 'X28',\n",
       " 'A0>=1': 'X29',\n",
       " 'A2>=6': 'X30',\n",
       " 'A2>=4': 'X31',\n",
       " 'A2<7': 'X32',\n",
       " 'A0<7': 'X33',\n",
       " 'A0>=3': 'X34',\n",
       " 'A1>=3': 'X35',\n",
       " 'A1<5': 'X36',\n",
       " 'A0>=4': 'X37',\n",
       " 'A0>=6': 'X38',\n",
       " 'A0!=2': 'X39'}"
      ]
     },
     "execution_count": 63,
     "metadata": {},
     "output_type": "execute_result"
    }
   ],
   "source": [
    "literals = {}\n",
    "literalsInv = {}\n",
    "count = 0\n",
    "for key in oRules:\n",
    "    sel = oRules[key].replace(\"(\",\"\").replace(\")\",\"\").replace(\"or\",\",\").replace(\"and\",\",\").replace(\" \",\"\").split(\",\")\n",
    "    for el in sel:\n",
    "        if el not in literals:\n",
    "            literals[el] = \"X{}\".format(count)\n",
    "            literalsInv[\"X{}\".format(count)] = el\n",
    "            count += 1\n",
    "literals    "
   ]
  },
  {
   "cell_type": "code",
   "execution_count": 64,
   "metadata": {},
   "outputs": [
    {
     "data": {
      "text/plain": [
       "{0: ['(X0 or X1) and (X2) and (X3) and (X4 or X5) and (X1 or X4) and (X4 or X6)',\n",
       "  7],\n",
       " 1: ['(X7 or X1) and (X2 or X8) and (X9 or X10) and (X11 or X4) and (X3 or X4) and (X12 or X13) and (X12 or X14) and (X15 or X16)',\n",
       "  14],\n",
       " 2: ['(X15 or X7) and (X17) and (X3) and (X18 or X13) and (X19 or X20) and (X12) and (X13 or X21 or X15) and (X13 or X22 or X23) and (X24 or X23) and (X21) and (X24 or X25)',\n",
       "  14],\n",
       " 3: ['(X26 or X0) and (X27) and (X28) and (X29) and (X30 or X7) and (X14 or X21)',\n",
       "  9],\n",
       " 4: ['(X25) and (X28) and (X2) and (X27) and (X12) and (X29 or X31) and (X23) and (X1 or X5) and (X29 or X32)',\n",
       "  11],\n",
       " 5: ['(X33) and (X16 or X15) and (X34 or X35) and (X30 or X36) and (X16 or X21) and (X21) and (X13 or X1 or X20)',\n",
       "  11],\n",
       " 6: ['(X1 or X2 or X22) and (X14 or X23) and (X2 or X11) and (X37 or X22) and (X2 or X31) and (X10 or X33) and (X29) and (X12)',\n",
       "  12],\n",
       " 7: ['(X38 or X7) and (X16) and (X37 or X30) and (X2 or X3) and (X39) and (X26 or X21)',\n",
       "  10]}"
      ]
     },
     "execution_count": 64,
     "metadata": {},
     "output_type": "execute_result"
    }
   ],
   "source": [
    "clausulesWLiterals = {}\n",
    "for key in oRules:\n",
    "    clsstr = oRules[key].replace(\" \",\"\").replace(\"or\",\" or \").replace(\"and\",\" and \")\n",
    "    count = 0\n",
    "    for key3 in literals:\n",
    "        if key3 in clsstr:\n",
    "            clsstr = clsstr.replace(key3,literals[key3])\n",
    "            count += 1\n",
    "    if key not in clausulesWLiterals:\n",
    "        clausulesWLiterals[key] = {}\n",
    "    clausulesWLiterals[key]=[clsstr,count]\n",
    "clausulesWLiterals"
   ]
  },
  {
   "cell_type": "code",
   "execution_count": 67,
   "metadata": {},
   "outputs": [
    {
     "name": "stdout",
     "output_type": "stream",
     "text": [
      "0\n",
      "1\n",
      "2\n",
      "3\n",
      "4\n",
      "5\n",
      "6\n",
      "7\n"
     ]
    },
    {
     "data": {
      "text/plain": [
       "{0: 'X2 and X3 and (X0 or X1) and (X1 or X4) and (X4 or X5) and (X4 or X6)',\n",
       " 1: '(X1 or X7) and (X10 or X9) and (X11 or X4) and (X12 or X13) and (X12 or X14) and (X15 or X16) and (X2 or X8) and (X3 or X4)',\n",
       " 2: 'X12 and X17 and X21 and X3 and (X13 or X18) and (X15 or X7) and (X19 or X20) and (X23 or X24) and (X24 or X25) and (X13 or X15 or X21) and (X13 or X22 or X23)',\n",
       " 3: 'X27 and X28 and X29 and (X0 or X26) and (X14 or X21) and (X30 or X7)',\n",
       " 4: 'X12 and X2 and X23 and X25 and X27 and X28 and (X1 or X5) and (X29 or X31) and (X29 or X32)',\n",
       " 5: 'X21 and X33 and (X15 or X16) and (X16 or X21) and (X30 or X36) and (X34 or X35) and (X1 or X13 or X20)',\n",
       " 6: 'X12 and X29 and (X10 or X33) and (X11 or X2) and (X14 or X23) and (X2 or X31) and (X22 or X37) and (X1 or X2 or X22)',\n",
       " 7: 'X16 and X39 and (X2 or X3) and (X21 or X26) and (X30 or X37) and (X38 or X7)'}"
      ]
     },
     "execution_count": 67,
     "metadata": {},
     "output_type": "execute_result"
    }
   ],
   "source": [
    "simpExpr = {}\n",
    "for key in clausulesWLiterals:\n",
    "    strexpr = clausulesWLiterals[key][0]\n",
    "    print(key)\n",
    "    strexpr = strexpr.replace(\"or\",\"|\").replace(\"and\",\"&\").replace(\"[\",\"\").replace(\"]\",\"\")\n",
    "    strsimp = str(simplify_logic(strexpr))\n",
    "    strsimp = strsimp.replace(\"|\",\"or\").replace(\"&\",\"and\")\n",
    "    if key not in simpExpr:\n",
    "        simpExpr[key] = \"\"\n",
    "    simpExpr[key] = strsimp\n",
    "simpExpr"
   ]
  },
  {
   "cell_type": "code",
   "execution_count": 69,
   "metadata": {},
   "outputs": [
    {
     "data": {
      "text/plain": [
       "{0: 'A1<2 and A0<5 and (A0<2 or A2<4 ) and (A2<4 or A1<1 ) and (A1<1 or A0<1 ) and (A1<1 or A2>=3 ) ',\n",
       " 1: '(A2<4 or A0<4 ) and (A2<2 or A1<7 ) and (A0<6 or A1<1 ) and (A1>=1 or A0>=2 ) and (A1>=1 or A0>=5 ) and (A2<3 or A2>=5 ) and (A1<2 or A1>=6 ) and (A0<5 or A1<1 ) ',\n",
       " 2: 'A1>=1 and A1!=3 and A1>=2 and A0<5 and (A0>=2 or A2!=3 ) and (A2<3 or A0<4 ) and (A2<5 or A1<4 ) and (A2>=2 or A1<6 ) and (A1<6 or A0<3 ) and (A0>=2 or A2<3 or A1>=2 ) and (A0>=2 or A1>=4 or A2>=2 ) ',\n",
       " 3: 'A2>=1 and A1<3 and A0>=1 and (A0<2 or A0>=7 ) and (A0>=5 or A1>=2 ) and (A2>=6 or A0<4 ) ',\n",
       " 4: 'A1>=1 and A1<2 and A2>=2 and A0<3 and A2>=1 and A1<3 and (A2<4 or A0<1 ) and (A0>=1 or A2>=4 ) and (A0>=1 or A2<7 ) ',\n",
       " 5: 'A1>=2 and A0<7 and (A2<3 or A2>=5 ) and (A2>=5 or A1>=2 ) and (A2>=6 or A1<5 ) and (A0>=3 or A1>=3 ) and (A2<4 or A0>=2 or A1<4 ) ',\n",
       " 6: 'A1>=1 and A0>=1 and (A2<2 or A0<7 ) and (A0<6 or A1<2 ) and (A0>=5 or A2>=2 ) and (A1<2 or A2>=4 ) and (A1>=4 or A0>=4 ) and (A2<4 or A1<2 or A1>=4 ) ',\n",
       " 7: 'A2>=5 and A0!=2 and (A1<2 or A0<5 ) and (A1>=2 or A0>=7 ) and (A2>=6 or A0>=4 ) and (A0>=6 or A0<4 ) '}"
      ]
     },
     "execution_count": 69,
     "metadata": {},
     "output_type": "execute_result"
    }
   ],
   "source": [
    "simpExpr2 = {}\n",
    "for key in simpExpr:\n",
    "    temp = simpExpr[key].replace(\")\",\" )\") + \" \"\n",
    "    for key3 in literalsInv:\n",
    "        temp = temp.replace(key3+\" \",literalsInv[key3]+\" \")\n",
    "    if key not in simpExpr2:\n",
    "        simpExpr2[key] = \"\"\n",
    "    simpExpr2[key] = temp\n",
    "simpExpr2"
   ]
  },
  {
   "cell_type": "code",
   "execution_count": 71,
   "metadata": {},
   "outputs": [
    {
     "data": {
      "image/png": "[encoded data removed]",
      "text/plain": [
       "<Figure size 1440x720 with 1 Axes>"
      ]
     },
     "metadata": {
      "needs_background": "light"
     },
     "output_type": "display_data"
    }
   ],
   "source": [
    "res = testRulesOneDimension([1,1,3,0,0,0,0,0],18,simpExpr2)\n",
    "plotCA(res[\"history\"])"
   ]
  },
  {
   "cell_type": "code",
   "execution_count": null,
   "metadata": {},
   "outputs": [],
   "source": []
  }
 ],
 "metadata": {
  "kernelspec": {
   "display_name": "Python 3",
   "language": "python",
   "name": "python3"
  },
  "language_info": {
   "codemirror_mode": {
    "name": "ipython",
    "version": 3
   },
   "file_extension": ".py",
   "mimetype": "text/x-python",
   "name": "python",
   "nbconvert_exporter": "python",
   "pygments_lexer": "ipython3",
   "version": "3.6.8"
  }
 },
 "nbformat": 4,
 "nbformat_minor": 2
}
