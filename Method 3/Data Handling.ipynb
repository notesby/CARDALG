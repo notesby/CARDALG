{
 "cells": [
  {
   "cell_type": "code",
   "execution_count": 31,
   "metadata": {},
   "outputs": [],
   "source": [
    "import cellpylib as cpl\n",
    "import h5py\n",
    "import numpy as np\n",
    "import os\n",
    "import pandas as pd"
   ]
  },
  {
   "cell_type": "markdown",
   "metadata": {},
   "source": [
    "# Data Handling"
   ]
  },
  {
   "cell_type": "markdown",
   "metadata": {},
   "source": [
    "## Create 1D automata"
   ]
  },
  {
   "cell_type": "code",
   "execution_count": 28,
   "metadata": {},
   "outputs": [],
   "source": [
    "dimension1d = 100\n",
    "timesteps1d = 100\n",
    "rule1d = 15\n",
    "radious1d = 1\n",
    "k1d = 2\n",
    "\n",
    "ca1D = cpl.init_random(dimension1d,k=k1d)\n",
    "\n",
    "ca1D = cpl.evolve(ca1D, timesteps=timesteps1d,\n",
    "                                apply_rule=lambda n, c, t: cpl.totalistic_rule(n, k=k1d, rule=rule1d), r=radious1d)"
   ]
  },
  {
   "cell_type": "markdown",
   "metadata": {},
   "source": [
    "## Save 1D automata"
   ]
  },
  {
   "cell_type": "code",
   "execution_count": 29,
   "metadata": {},
   "outputs": [],
   "source": [
    "ca1dDir = \"data/rule_{}_{}_{}_{}_{}\".format(rule1d,k1d,str(dimension1d),timesteps1d,radious1d)\n",
    "if not os.path.exists(ca1dDir):\n",
    "    os.mkdir(ca1dDir)\n",
    "    for i,state in enumerate(ca1D):\n",
    "        name = \"{}/state_{}.hdf5\".format(ca1dDir,i)\n",
    "        h5f = h5py.File(name, 'w')\n",
    "        h5f.create_dataset('dataset_1', data=state)\n",
    "        h5f.close()"
   ]
  },
  {
   "cell_type": "markdown",
   "metadata": {},
   "source": [
    "## Create 2D automata"
   ]
  },
  {
   "cell_type": "code",
   "execution_count": 7,
   "metadata": {},
   "outputs": [],
   "source": [
    "neighbourhoodTypes2d = {1:\"Moore\",2:\"von Neumann\"}\n",
    "radiousOriginal2d = 1\n",
    "dimension2d = [50,50]\n",
    "rule2d = 126\n",
    "k2d= 3\n",
    "timesteps2d = 50\n",
    "neighbourhood2d = neighbourhoodTypes2d[1]\n",
    "\n",
    "ca2D = cpl.init_random2d(*dimension2d,k2d)\n",
    "ca2D = cpl.evolve2d(ca2D, timesteps=timesteps2d, neighbourhood=neighbourhood2d,\n",
    "                                      apply_rule=lambda n, c, t: cpl.totalistic_rule(n, k=k2d, rule=rule2d),\n",
    "                                      r=radiousOriginal2d)"
   ]
  },
  {
   "cell_type": "markdown",
   "metadata": {},
   "source": [
    "## Save 2D automata"
   ]
  },
  {
   "cell_type": "code",
   "execution_count": 11,
   "metadata": {},
   "outputs": [],
   "source": [
    "ca2dDir = \"data/rule_{}_{}_{}_{}_{}_{}\".format(rule2d,k2d,str(dimension2d),timesteps2d,neighbourhood2d,radiousOriginal2d)\n",
    "if not os.path.exists(ca2dDir):\n",
    "    os.mkdir(ca2dDir)\n",
    "    for i,state in enumerate(ca2D):\n",
    "        name = \"{}/state_{}.hdf5\".format(ca2dDir,i)\n",
    "        h5f = h5py.File(name, 'w')\n",
    "        h5f.create_dataset('dataset_1', data=state)\n",
    "        h5f.close()"
   ]
  },
  {
   "cell_type": "markdown",
   "metadata": {},
   "source": [
    "## Transform wildfire npy file to h5py"
   ]
  },
  {
   "cell_type": "code",
   "execution_count": 5,
   "metadata": {},
   "outputs": [],
   "source": [
    "wildfireDir = \"data/wildfire\"\n",
    "if not os.path.exists(wildfireDir):\n",
    "    os.mkdir(wildfireDir)\n",
    "    data = np.load(\"data/wildfire.npy\")\n",
    "    for i,state in enumerate(data):\n",
    "        name = \"{}/state_{}.hdf5\".format(wildfireDir,i)\n",
    "        h5f = h5py.File(name, 'w')\n",
    "        h5f.create_dataset('dataset_1', data=state)\n",
    "        h5f.close()"
   ]
  },
  {
   "cell_type": "markdown",
   "metadata": {},
   "source": [
    "## Transform 2_square csv file to h5py"
   ]
  },
  {
   "cell_type": "code",
   "execution_count": 32,
   "metadata": {},
   "outputs": [],
   "source": [
    "square2Dir = \"data/square2\"\n",
    "if not os.path.exists(square2Dir):\n",
    "    os.mkdir(square2Dir)\n",
    "    df = pd.read_csv(\"data/2_square.csv\")\n",
    "    data = df.values\n",
    "    for i,state in enumerate(data):\n",
    "        name = \"{}/state_{}.hdf5\".format(square2Dir,i)\n",
    "        h5f = h5py.File(name, 'w')\n",
    "        h5f.create_dataset('dataset_1', data=state)\n",
    "        h5f.close()"
   ]
  },
  {
   "cell_type": "code",
   "execution_count": null,
   "metadata": {},
   "outputs": [],
   "source": []
  }
 ],
 "metadata": {
  "kernelspec": {
   "display_name": "Python 3",
   "language": "python",
   "name": "python3"
  },
  "language_info": {
   "codemirror_mode": {
    "name": "ipython",
    "version": 3
   },
   "file_extension": ".py",
   "mimetype": "text/x-python",
   "name": "python",
   "nbconvert_exporter": "python",
   "pygments_lexer": "ipython3",
   "version": "3.6.8"
  }
 },
 "nbformat": 4,
 "nbformat_minor": 2
}
