{
 "cells": [
  {
   "cell_type": "markdown",
   "metadata": {},
   "source": [
    "## Imports"
   ]
  },
  {
   "cell_type": "code",
   "execution_count": 1,
   "metadata": {},
   "outputs": [],
   "source": [
    "using HDF5"
   ]
  },
  {
   "cell_type": "markdown",
   "metadata": {},
   "source": [
    "## Functions"
   ]
  },
  {
   "cell_type": "markdown",
   "metadata": {},
   "source": [
    "### General"
   ]
  },
  {
   "cell_type": "code",
   "execution_count": null,
   "metadata": {},
   "outputs": [],
   "source": [
    "path = \"data/wildfire\""
   ]
  },
  {
   "cell_type": "code",
   "execution_count": null,
   "metadata": {},
   "outputs": [],
   "source": [
    "files = readdir(path)\n",
    "nFiles = length(files)"
   ]
  },
  {
   "cell_type": "code",
   "execution_count": null,
   "metadata": {},
   "outputs": [],
   "source": [
    "for i = nFiles:0\n",
    "    @show i\n",
    "end"
   ]
  },
  {
   "cell_type": "code",
   "execution_count": null,
   "metadata": {},
   "outputs": [],
   "source": [
    "df = h5open(\"data/wildfire/state_40.hdf5\", \"r\") do file\n",
    "    read(file, \"dataset_1\")\n",
    "end"
   ]
  },
  {
   "cell_type": "code",
   "execution_count": null,
   "metadata": {},
   "outputs": [],
   "source": [
    "\n",
    "df[CartesianIndex(Tuple([1,1]))]"
   ]
  },
  {
   "cell_type": "code",
   "execution_count": null,
   "metadata": {},
   "outputs": [],
   "source": [
    "zeros(Int64,length([2]))"
   ]
  },
  {
   "cell_type": "code",
   "execution_count": null,
   "metadata": {},
   "outputs": [],
   "source": [
    "push!((),[(1,2) false])"
   ]
  },
  {
   "cell_type": "code",
   "execution_count": null,
   "metadata": {},
   "outputs": [],
   "source": [
    "A = [[1,2],[3,4]];\n",
    "for i in CartesianIndices(A)\n",
    "    @show i\n",
    "end"
   ]
  },
  {
   "cell_type": "code",
   "execution_count": 2,
   "metadata": {},
   "outputs": [
    {
     "data": {
      "text/plain": [
       "problemTask"
      ]
     },
     "execution_count": 2,
     "metadata": {},
     "output_type": "execute_result"
    }
   ],
   "source": [
    "\"\"\"\n",
    "    generateMaskExpr(size)\n",
    "\n",
    "Creates a string that represents a coroutine that emits all the relative coordinates\n",
    "from a square neighbourhood \n",
    "\n",
    "\"\"\"\n",
    "function generateMaskExpr(size)\n",
    "    literals = []\n",
    "    ranges = []\n",
    "    for ind in 1:length(size)\n",
    "        @show ind\n",
    "        charCode = Int('a')+ind\n",
    "        push!(literals,\"$(Char(charCode))\")\n",
    "        push!(ranges,\"$(Char(charCode))= -$(size[ind]):$(size[ind])\")\n",
    "    end\n",
    "    expr1 = join(literals,\" \")\n",
    "    expr2 = join(ranges,\",\")\n",
    "    expr3 = \"function emitMaskElement(chnl::Channel) for $(expr2) put!(chnl,[$(expr1)]) end end\"\n",
    "end\n",
    "\n",
    "function getMaskTask(size)\n",
    "    expr = generateMaskExpr(size)\n",
    "    fun = Meta.parse(expr)\n",
    "    eval(fun)\n",
    "end\n",
    "\n",
    "function isValidCoord(coord,msize)\n",
    "    isValid = true\n",
    "    for i in eachindex(coord)\n",
    "        isValid = isValid && coord[i] >= 1 && coord[i] <= msize[i]\n",
    "    end\n",
    "    isValid\n",
    "end\n",
    "\n",
    "function manhattanDistance(coord)\n",
    "    res = 0\n",
    "    for i in coord\n",
    "        res += abs(i)\n",
    "    end\n",
    "    res\n",
    "end\n",
    "\n",
    "function vonNeumannFilter(distance)\n",
    "    (coord) -> manhattanDistance(coord) <= distance\n",
    "end\n",
    "\n",
    "function mooreFilter()\n",
    "    (coord) -> true\n",
    "end\n",
    "\n",
    "function getNeighbourhoodValues(df,coord,maskTask,filter,msize,paddingType,paddingValue)\n",
    "    neighbourhood = []\n",
    "    j = 1\n",
    "    maskChannel = Channel(maskTask)\n",
    "    for val in maskChannel\n",
    "        if !filter(val)\n",
    "            continue\n",
    "        end\n",
    "        relCoord = zeros(Int16,length(coord))\n",
    "        for i = 1:length(coord)\n",
    "            relCoord[i] = val[i]+coord[i]\n",
    "        end\n",
    "        validCoord = isValidCoord(relCoord,msize)\n",
    "        if !validCoord\n",
    "            if paddingType == 1\n",
    "                push!(neighbourhood, paddingValue)\n",
    "            elseif paddingType == 2\n",
    "                push!(neighbourhood, 0)\n",
    "            end\n",
    "        else\n",
    "            index = CartesianIndex(Tuple(relCoord))\n",
    "            push!(neighbourhood, df[index])\n",
    "        end\n",
    "        j += 1\n",
    "    end\n",
    "    neighbourhood\n",
    "end\n",
    "\n",
    "\n",
    "\"\"\"\n",
    "    getNeighborhood(dataframe,mask,paddingType,paddingValue)\n",
    "\n",
    "Obtains the value of each neighborhood of the dataframe\n",
    "\n",
    "\"\"\"\n",
    "\n",
    "function getNeighbourhood(df,maskTask,filter,paddingType,paddingValue)\n",
    "    neighbourhoods = []\n",
    "    cls = []\n",
    "    msize = size(df)\n",
    "    for coord in CartesianIndices(df) \n",
    "        push!(neighbourhoods,getNeighbourhoodValues(df,coord,maskTask,filter,msize,paddingType,paddingValue))\n",
    "    end\n",
    "    neighbourhoods\n",
    "end\n",
    "\n",
    "\n",
    "function getCls(df)\n",
    "    cls = []\n",
    "    for coord in CartesianIndices(df) \n",
    "        push!(cls,Int(df[coord]))\n",
    "    end\n",
    "    cls\n",
    "end\n",
    "\n",
    "\"\"\"\n",
    "    problemTask(states,neighborhood,paddingType,paddingValue)\n",
    "\n",
    "Creates a task that returns in each execution the values of the neihgborhood\n",
    "\n",
    "\"\"\"\n",
    "function problemTask(c::Channel,folder,states,maskTask,filter,paddingType,paddingValue)\n",
    "    prev = h5open(\"$(folder)/state_$(states[1]).hdf5\", \"r\") do file\n",
    "                read(file, \"dataset_1\")\n",
    "            end\n",
    "    \n",
    "    for i = 2:length(states)\n",
    "        next = h5open(\"$(folder)/state_$(states[i]).hdf5\", \"r\") do file\n",
    "                    read(file, \"dataset_1\")\n",
    "                end\n",
    "        neighbourhood = getNeighbourhood(prev,maskTask,filter,paddingType,paddingValue)\n",
    "        cls = getCls(next)\n",
    "        itm = \"$(folder)/state_$(states[i]).hdf5\",neighbourhood,cls\n",
    "        prev = next\n",
    "        put!(c,itm)\n",
    "        @show i\n",
    "    end\n",
    "    \n",
    "end"
   ]
  },
  {
   "cell_type": "markdown",
   "metadata": {},
   "source": [
    "### Genetic"
   ]
  },
  {
   "cell_type": "code",
   "execution_count": null,
   "metadata": {},
   "outputs": [],
   "source": [
    "\"\"\"c = Channel((c) -> problemTask(c,\"data/square2\",[0 1 30 31 40 41],[[-1,-1],[0,0],[1,1]],1,1))\"\"\"\n",
    "n = 1\n",
    "\"\"\"taskHdl = Task(() -> problemTask(\"data/wildfire\",[0 1 2 3 4],[[-1,-1],[0,0],[1,1]],1,1))\n",
    "\"\"\"\n"
   ]
  },
  {
   "cell_type": "markdown",
   "metadata": {},
   "source": [
    "## Tests"
   ]
  },
  {
   "cell_type": "code",
   "execution_count": 24,
   "metadata": {},
   "outputs": [
    {
     "name": "stdout",
     "output_type": "stream",
     "text": [
      "ind = 1\n"
     ]
    },
    {
     "data": {
      "text/plain": [
       "-1"
      ]
     },
     "execution_count": 24,
     "metadata": {},
     "output_type": "execute_result"
    }
   ],
   "source": [
    "dataPath = \"data/square2\"\n",
    "radious = [3]\n",
    "maskTask = getMaskTask(radious)\n",
    "filter = mooreFilter()\n",
    "paddingType = 1\n",
    "paddingValue = -1"
   ]
  },
  {
   "cell_type": "code",
   "execution_count": 21,
   "metadata": {
    "scrolled": true
   },
   "outputs": [
    {
     "name": "stdout",
     "output_type": "stream",
     "text": [
      "  0.071262 seconds (96.54 k allocations: 5.571 MiB, 11.69% gc time)\n"
     ]
    },
    {
     "data": {
      "text/plain": [
       "Channel{Any}(sz_max:0,sz_curr:0)"
      ]
     },
     "execution_count": 21,
     "metadata": {},
     "output_type": "execute_result"
    }
   ],
   "source": [
    "@time c = Channel((c) -> problemTask(c,dataPath,[0 1],maskTask,filter,paddingType,paddingValue))"
   ]
  },
  {
   "cell_type": "code",
   "execution_count": 3,
   "metadata": {},
   "outputs": [
    {
     "data": {
      "text/plain": [
       "Task (runnable) @0x0000000115e3d8d0"
      ]
     },
     "execution_count": 3,
     "metadata": {},
     "output_type": "execute_result"
    }
   ],
   "source": [
    "function mytask(c::Channel,myarg)\n",
    "    for i = 1:myarg\n",
    "        @show i\n",
    "        put!(c,i)\n",
    "    end\n",
    "end\n",
    "\n",
    "b = Channel(1)\n",
    "taskHdl = Task(() -> mytask(b,7))\n",
    "# or, equivalently\n",
    "taskHdl = @task mytask(7)"
   ]
  },
  {
   "cell_type": "code",
   "execution_count": 4,
   "metadata": {},
   "outputs": [
    {
     "data": {
      "text/plain": [
       "Channel{Any}(sz_max:1,sz_curr:0)"
      ]
     },
     "execution_count": 4,
     "metadata": {},
     "output_type": "execute_result"
    }
   ],
   "source": [
    "bind(b,taskHdl)"
   ]
  },
  {
   "cell_type": "code",
   "execution_count": null,
   "metadata": {},
   "outputs": [],
   "source": [
    "for i in b\n",
    "    @show i\n",
    "end"
   ]
  },
  {
   "cell_type": "code",
   "execution_count": null,
   "metadata": {},
   "outputs": [],
   "source": [
    "open(\"hello.txt\") do f\n",
    "       uppercase(read(f, String))\n",
    "   end"
   ]
  }
 ],
 "metadata": {
  "kernelspec": {
   "display_name": "Julia 1.2.0",
   "language": "julia",
   "name": "julia-1.2"
  },
  "language_info": {
   "file_extension": ".jl",
   "mimetype": "application/julia",
   "name": "julia",
   "version": "1.2.0"
  }
 },
 "nbformat": 4,
 "nbformat_minor": 2
}
